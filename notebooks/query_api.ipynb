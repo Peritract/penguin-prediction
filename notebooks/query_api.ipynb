{
 "cells": [
  {
   "cell_type": "markdown",
   "id": "lesser-variation",
   "metadata": {},
   "source": [
    "# Querying the Penguin API\n",
    "\n",
    "This notebook provides utility code to test the Penguin Predictor API.\n",
    "\n",
    "## Imports"
   ]
  },
  {
   "cell_type": "code",
   "execution_count": 2,
   "id": "clear-night",
   "metadata": {},
   "outputs": [],
   "source": [
    "import json\n",
    "import requests"
   ]
  },
  {
   "cell_type": "markdown",
   "id": "manufactured-china",
   "metadata": {},
   "source": [
    "## Sourcing data"
   ]
  },
  {
   "cell_type": "code",
   "execution_count": 3,
   "id": "monetary-democracy",
   "metadata": {},
   "outputs": [],
   "source": [
    "penguin = {\n",
    "    'culmen_length_mm': 40.8,\n",
    "    'culmen_depth_mm': 18.9,\n",
    "    'body_mass_g': 4300.0,\n",
    "    'flipper_length_mm': 150.0\n",
    "}"
   ]
  },
  {
   "cell_type": "markdown",
   "id": "hazardous-composition",
   "metadata": {},
   "source": [
    "## Sending requests"
   ]
  },
  {
   "cell_type": "code",
   "execution_count": 4,
   "id": "junior-catholic",
   "metadata": {},
   "outputs": [],
   "source": [
    "# local - http://127.0.0.1:8080/predict\n",
    "# live - https://penguin-predictions-api.herokuapp.com/\n",
    "\n",
    "\n",
    "response = requests.post('https://penguin-predictions-api.herokuapp.com/predict', json=penguin)"
   ]
  },
  {
   "cell_type": "markdown",
   "id": "natural-overall",
   "metadata": {},
   "source": [
    "## Reading responses"
   ]
  },
  {
   "cell_type": "code",
   "execution_count": 5,
   "id": "republican-headquarters",
   "metadata": {},
   "outputs": [
    {
     "data": {
      "text/plain": [
       "200"
      ]
     },
     "execution_count": 5,
     "metadata": {},
     "output_type": "execute_result"
    }
   ],
   "source": [
    "# 200 means \"fine\", anything else is cause for concern\n",
    "\n",
    "response.status_code"
   ]
  },
  {
   "cell_type": "code",
   "execution_count": 6,
   "id": "recent-victory",
   "metadata": {},
   "outputs": [
    {
     "data": {
      "text/plain": [
       "{'prediction': 'Adelie'}"
      ]
     },
     "execution_count": 6,
     "metadata": {},
     "output_type": "execute_result"
    }
   ],
   "source": [
    "# Check the actual response\n",
    "\n",
    "response.json()"
   ]
  }
 ],
 "metadata": {
  "kernelspec": {
   "display_name": "Python 3",
   "language": "python",
   "name": "python3"
  },
  "language_info": {
   "codemirror_mode": {
    "name": "ipython",
    "version": 3
   },
   "file_extension": ".py",
   "mimetype": "text/x-python",
   "name": "python",
   "nbconvert_exporter": "python",
   "pygments_lexer": "ipython3",
   "version": "3.9.2"
  }
 },
 "nbformat": 4,
 "nbformat_minor": 5
}
