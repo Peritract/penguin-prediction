{
 "cells": [
  {
   "cell_type": "markdown",
   "id": "noted-hebrew",
   "metadata": {},
   "source": [
    "# Predicting Penguins\n",
    "\n",
    "This notebook loads a saved model and uses it to make predictions about penguin species.\n",
    "\n",
    "## Imports"
   ]
  },
  {
   "cell_type": "code",
   "execution_count": 1,
   "id": "published-ozone",
   "metadata": {},
   "outputs": [],
   "source": [
    "import pickle  # Load models\n",
    "import pandas as pd  # Manipulation"
   ]
  },
  {
   "cell_type": "markdown",
   "id": "bridal-suite",
   "metadata": {},
   "source": [
    "## Loading the model"
   ]
  },
  {
   "cell_type": "code",
   "execution_count": 2,
   "id": "attended-cement",
   "metadata": {},
   "outputs": [],
   "source": [
    "with open('../models/penguin_classifier', 'rb') as file:\n",
    "    model = pickle.load(file)"
   ]
  },
  {
   "cell_type": "markdown",
   "id": "better-product",
   "metadata": {},
   "source": [
    "## Sourcing data"
   ]
  },
  {
   "cell_type": "code",
   "execution_count": 3,
   "id": "spatial-ecology",
   "metadata": {},
   "outputs": [],
   "source": [
    "# Initial dictionary of data\n",
    "\n",
    "penguin = {\n",
    "    'culmen_length_mm': 40.8,\n",
    "    'culmen_depth_mm': 18.9,\n",
    "    'body_mass_g': 4300.0,\n",
    "    'flipper_length_mm': 150.0,\n",
    "}"
   ]
  },
  {
   "cell_type": "markdown",
   "id": "flexible-relative",
   "metadata": {},
   "source": [
    "## Preparing the data\n",
    "\n",
    "It needs to be formatted exactly the same as the model's training X."
   ]
  },
  {
   "cell_type": "code",
   "execution_count": 4,
   "id": "textile-karaoke",
   "metadata": {},
   "outputs": [],
   "source": [
    "# Create a dataframe (with the columns in the right order)\n",
    "\n",
    "X = pd.DataFrame(columns=['culmen_length_mm',\n",
    "                          'culmen_depth_mm',\n",
    "                          'flipper_length_mm',\n",
    "                          'body_mass_g'])\n",
    "\n",
    "# Append the penguin row to it\n",
    "\n",
    "X = X.append(penguin, ignore_index=True)"
   ]
  },
  {
   "cell_type": "markdown",
   "id": "french-cotton",
   "metadata": {},
   "source": [
    "## Making a prediction"
   ]
  },
  {
   "cell_type": "code",
   "execution_count": 5,
   "id": "invisible-salmon",
   "metadata": {},
   "outputs": [
    {
     "data": {
      "text/plain": [
       "'Adelie'"
      ]
     },
     "execution_count": 5,
     "metadata": {},
     "output_type": "execute_result"
    }
   ],
   "source": [
    "model.predict(X)[0]"
   ]
  },
  {
   "cell_type": "markdown",
   "id": "square-reservation",
   "metadata": {},
   "source": [
    "## Predicting as a function"
   ]
  },
  {
   "cell_type": "code",
   "execution_count": 6,
   "id": "approximate-objective",
   "metadata": {},
   "outputs": [],
   "source": [
    "def predict_penguin(penguin):\n",
    "    \"\"\"Predicts a penguin's species based on dimensions.\"\"\"\n",
    "\n",
    "    # Create a dataframe matching the model's X order\n",
    "    X = pd.DataFrame(columns=['culmen_length_mm',\n",
    "                              'culmen_depth_mm',\n",
    "                              'flipper_length_mm',\n",
    "                              'body_mass_g'])\n",
    "\n",
    "    # Add the penguin to the empty df    \n",
    "    X = X.append(penguin, ignore_index=True)\n",
    "\n",
    "    # Return a prediction\n",
    "    return model.predict(X)[0]"
   ]
  },
  {
   "cell_type": "code",
   "execution_count": 7,
   "id": "concrete-white",
   "metadata": {},
   "outputs": [
    {
     "data": {
      "text/plain": [
       "'Adelie'"
      ]
     },
     "execution_count": 7,
     "metadata": {},
     "output_type": "execute_result"
    }
   ],
   "source": [
    "predict_penguin(penguin)"
   ]
  }
 ],
 "metadata": {
  "kernelspec": {
   "display_name": "Python 3",
   "language": "python",
   "name": "python3"
  },
  "language_info": {
   "codemirror_mode": {
    "name": "ipython",
    "version": 3
   },
   "file_extension": ".py",
   "mimetype": "text/x-python",
   "name": "python",
   "nbconvert_exporter": "python",
   "pygments_lexer": "ipython3",
   "version": "3.9.5"
  }
 },
 "nbformat": 4,
 "nbformat_minor": 5
}
