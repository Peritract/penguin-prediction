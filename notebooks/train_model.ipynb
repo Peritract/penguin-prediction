{
 "cells": [
  {
   "cell_type": "markdown",
   "id": "unauthorized-ceramic",
   "metadata": {},
   "source": [
    "# Training the Penguin Model\n",
    "\n",
    "This notebook trains and exports a model to predict penguin species based on dimensions.\n",
    "\n",
    "## Imports"
   ]
  },
  {
   "cell_type": "code",
   "execution_count": 1,
   "id": "through-feedback",
   "metadata": {},
   "outputs": [],
   "source": [
    "import pickle  # Save models\n",
    "\n",
    "from numpy import nan  # cat's footstep\n",
    "import pandas as pd\n",
    "from sklearn.model_selection import train_test_split\n",
    "from sklearn.tree import DecisionTreeClassifier\n",
    "from sklearn.metrics import plot_confusion_matrix, classification_report"
   ]
  },
  {
   "cell_type": "markdown",
   "id": "unsigned-helena",
   "metadata": {},
   "source": [
    "## Data sourcing"
   ]
  },
  {
   "cell_type": "code",
   "execution_count": 2,
   "id": "serious-impression",
   "metadata": {},
   "outputs": [],
   "source": [
    "pngn = pd.read_csv('../data/penguins_size.csv')"
   ]
  },
  {
   "cell_type": "code",
   "execution_count": 3,
   "id": "desirable-reliance",
   "metadata": {},
   "outputs": [
    {
     "data": {
      "text/html": [
       "<div>\n",
       "<style scoped>\n",
       "    .dataframe tbody tr th:only-of-type {\n",
       "        vertical-align: middle;\n",
       "    }\n",
       "\n",
       "    .dataframe tbody tr th {\n",
       "        vertical-align: top;\n",
       "    }\n",
       "\n",
       "    .dataframe thead th {\n",
       "        text-align: right;\n",
       "    }\n",
       "</style>\n",
       "<table border=\"1\" class=\"dataframe\">\n",
       "  <thead>\n",
       "    <tr style=\"text-align: right;\">\n",
       "      <th></th>\n",
       "      <th>species</th>\n",
       "      <th>island</th>\n",
       "      <th>culmen_length_mm</th>\n",
       "      <th>culmen_depth_mm</th>\n",
       "      <th>flipper_length_mm</th>\n",
       "      <th>body_mass_g</th>\n",
       "      <th>sex</th>\n",
       "    </tr>\n",
       "  </thead>\n",
       "  <tbody>\n",
       "    <tr>\n",
       "      <th>26</th>\n",
       "      <td>Adelie</td>\n",
       "      <td>Biscoe</td>\n",
       "      <td>40.6</td>\n",
       "      <td>18.6</td>\n",
       "      <td>183.0</td>\n",
       "      <td>3550.0</td>\n",
       "      <td>MALE</td>\n",
       "    </tr>\n",
       "    <tr>\n",
       "      <th>55</th>\n",
       "      <td>Adelie</td>\n",
       "      <td>Biscoe</td>\n",
       "      <td>41.4</td>\n",
       "      <td>18.6</td>\n",
       "      <td>191.0</td>\n",
       "      <td>3700.0</td>\n",
       "      <td>MALE</td>\n",
       "    </tr>\n",
       "  </tbody>\n",
       "</table>\n",
       "</div>"
      ],
      "text/plain": [
       "   species  island  culmen_length_mm  culmen_depth_mm  flipper_length_mm  \\\n",
       "26  Adelie  Biscoe              40.6             18.6              183.0   \n",
       "55  Adelie  Biscoe              41.4             18.6              191.0   \n",
       "\n",
       "    body_mass_g   sex  \n",
       "26       3550.0  MALE  \n",
       "55       3700.0  MALE  "
      ]
     },
     "execution_count": 3,
     "metadata": {},
     "output_type": "execute_result"
    }
   ],
   "source": [
    "pngn.sample(2)"
   ]
  },
  {
   "cell_type": "markdown",
   "id": "deluxe-engagement",
   "metadata": {},
   "source": [
    "## Cleaning"
   ]
  },
  {
   "cell_type": "code",
   "execution_count": 4,
   "id": "executive-flavor",
   "metadata": {},
   "outputs": [],
   "source": [
    "# Simplify sex column\n",
    "\n",
    "pngn['sex'] = pngn['sex'].replace('.', nan)\n",
    "\n",
    "# Remove NA rows\n",
    "\n",
    "pngn = pngn.dropna()\n",
    "\n",
    "# Drop categorical columns\n",
    "\n",
    "pngn = pngn.drop(['sex', 'island'], axis=1)"
   ]
  },
  {
   "cell_type": "code",
   "execution_count": 5,
   "id": "digital-murray",
   "metadata": {},
   "outputs": [
    {
     "data": {
      "text/html": [
       "<div>\n",
       "<style scoped>\n",
       "    .dataframe tbody tr th:only-of-type {\n",
       "        vertical-align: middle;\n",
       "    }\n",
       "\n",
       "    .dataframe tbody tr th {\n",
       "        vertical-align: top;\n",
       "    }\n",
       "\n",
       "    .dataframe thead th {\n",
       "        text-align: right;\n",
       "    }\n",
       "</style>\n",
       "<table border=\"1\" class=\"dataframe\">\n",
       "  <thead>\n",
       "    <tr style=\"text-align: right;\">\n",
       "      <th></th>\n",
       "      <th>species</th>\n",
       "      <th>culmen_length_mm</th>\n",
       "      <th>culmen_depth_mm</th>\n",
       "      <th>flipper_length_mm</th>\n",
       "      <th>body_mass_g</th>\n",
       "    </tr>\n",
       "  </thead>\n",
       "  <tbody>\n",
       "    <tr>\n",
       "      <th>325</th>\n",
       "      <td>Gentoo</td>\n",
       "      <td>46.8</td>\n",
       "      <td>16.1</td>\n",
       "      <td>215.0</td>\n",
       "      <td>5500.0</td>\n",
       "    </tr>\n",
       "    <tr>\n",
       "      <th>76</th>\n",
       "      <td>Adelie</td>\n",
       "      <td>40.9</td>\n",
       "      <td>16.8</td>\n",
       "      <td>191.0</td>\n",
       "      <td>3700.0</td>\n",
       "    </tr>\n",
       "    <tr>\n",
       "      <th>20</th>\n",
       "      <td>Adelie</td>\n",
       "      <td>37.8</td>\n",
       "      <td>18.3</td>\n",
       "      <td>174.0</td>\n",
       "      <td>3400.0</td>\n",
       "    </tr>\n",
       "  </tbody>\n",
       "</table>\n",
       "</div>"
      ],
      "text/plain": [
       "    species  culmen_length_mm  culmen_depth_mm  flipper_length_mm  body_mass_g\n",
       "325  Gentoo              46.8             16.1              215.0       5500.0\n",
       "76   Adelie              40.9             16.8              191.0       3700.0\n",
       "20   Adelie              37.8             18.3              174.0       3400.0"
      ]
     },
     "execution_count": 5,
     "metadata": {},
     "output_type": "execute_result"
    }
   ],
   "source": [
    "pngn.sample(3)"
   ]
  },
  {
   "cell_type": "markdown",
   "id": "artificial-creek",
   "metadata": {},
   "source": [
    "## Data splitting"
   ]
  },
  {
   "cell_type": "code",
   "execution_count": 6,
   "id": "based-knife",
   "metadata": {},
   "outputs": [],
   "source": [
    "# Get predictors/target\n",
    "\n",
    "X = pngn.drop('species', axis=1)\n",
    "y = pngn[['species']]"
   ]
  },
  {
   "cell_type": "code",
   "execution_count": 7,
   "id": "crude-mission",
   "metadata": {},
   "outputs": [],
   "source": [
    "# One-hot encode predictors\n",
    "\n",
    "X = pd.get_dummies(X)"
   ]
  },
  {
   "cell_type": "code",
   "execution_count": 8,
   "id": "banner-driver",
   "metadata": {},
   "outputs": [],
   "source": [
    "X_train, X_test, y_train, y_test = train_test_split(X, y,\n",
    "                                                    stratify=y,\n",
    "                                                    test_size=0.3,\n",
    "                                                    random_state=18)"
   ]
  },
  {
   "cell_type": "markdown",
   "id": "fatty-blair",
   "metadata": {},
   "source": [
    "## Modelling"
   ]
  },
  {
   "cell_type": "code",
   "execution_count": 9,
   "id": "contemporary-transition",
   "metadata": {},
   "outputs": [],
   "source": [
    "model = DecisionTreeClassifier(max_depth=4,\n",
    "                               random_state=18)"
   ]
  },
  {
   "cell_type": "code",
   "execution_count": 10,
   "id": "interior-sector",
   "metadata": {},
   "outputs": [
    {
     "data": {
      "text/plain": [
       "DecisionTreeClassifier(max_depth=4, random_state=18)"
      ]
     },
     "execution_count": 10,
     "metadata": {},
     "output_type": "execute_result"
    }
   ],
   "source": [
    "model.fit(X_train, y_train)"
   ]
  },
  {
   "cell_type": "markdown",
   "id": "minus-litigation",
   "metadata": {},
   "source": [
    "## Evaluation"
   ]
  },
  {
   "cell_type": "code",
   "execution_count": 11,
   "id": "forced-roller",
   "metadata": {},
   "outputs": [
    {
     "data": {
      "text/plain": [
       "0.9957081545064378"
      ]
     },
     "execution_count": 11,
     "metadata": {},
     "output_type": "execute_result"
    }
   ],
   "source": [
    "model.score(X_train, y_train)"
   ]
  },
  {
   "cell_type": "code",
   "execution_count": 12,
   "id": "lasting-complexity",
   "metadata": {},
   "outputs": [
    {
     "data": {
      "text/plain": [
       "0.94"
      ]
     },
     "execution_count": 12,
     "metadata": {},
     "output_type": "execute_result"
    }
   ],
   "source": [
    "model.score(X_test, y_test)"
   ]
  },
  {
   "cell_type": "code",
   "execution_count": 13,
   "id": "adjustable-nelson",
   "metadata": {},
   "outputs": [],
   "source": [
    "y_pred = model.predict(X_test)"
   ]
  },
  {
   "cell_type": "code",
   "execution_count": 14,
   "id": "reliable-milton",
   "metadata": {},
   "outputs": [
    {
     "name": "stdout",
     "output_type": "stream",
     "text": [
      "              precision    recall  f1-score   support\n",
      "\n",
      "      Adelie       0.93      0.93      0.93        44\n",
      "   Chinstrap       0.86      0.95      0.90        20\n",
      "      Gentoo       1.00      0.94      0.97        36\n",
      "\n",
      "    accuracy                           0.94       100\n",
      "   macro avg       0.93      0.94      0.94       100\n",
      "weighted avg       0.94      0.94      0.94       100\n",
      "\n"
     ]
    }
   ],
   "source": [
    "print(classification_report(y_test, y_pred))"
   ]
  },
  {
   "cell_type": "code",
   "execution_count": 15,
   "id": "sized-creativity",
   "metadata": {},
   "outputs": [
    {
     "data": {
      "text/plain": [
       "<sklearn.metrics._plot.confusion_matrix.ConfusionMatrixDisplay at 0x123e3b820>"
      ]
     },
     "execution_count": 15,
     "metadata": {},
     "output_type": "execute_result"
    },
    {
     "data": {
      "image/png": "[encoded data removed]",
      "text/plain": [
       "<Figure size 432x288 with 2 Axes>"
      ]
     },
     "metadata": {
      "needs_background": "light"
     },
     "output_type": "display_data"
    }
   ],
   "source": [
    "plot_confusion_matrix(model, X_test, y_test)"
   ]
  },
  {
   "cell_type": "markdown",
   "id": "gothic-latex",
   "metadata": {},
   "source": [
    "## Exporting the model"
   ]
  },
  {
   "cell_type": "code",
   "execution_count": 16,
   "id": "thick-pastor",
   "metadata": {},
   "outputs": [],
   "source": []
  }
 ],
 "metadata": {
  "kernelspec": {
   "display_name": "Python 3",
   "language": "python",
   "name": "python3"
  },
  "language_info": {
   "codemirror_mode": {
    "name": "ipython",
    "version": 3
   },
   "file_extension": ".py",
   "mimetype": "text/x-python",
   "name": "python",
   "nbconvert_exporter": "python",
   "pygments_lexer": "ipython3",
   "version": "3.9.5"
  }
 },
 "nbformat": 4,
 "nbformat_minor": 5
}
